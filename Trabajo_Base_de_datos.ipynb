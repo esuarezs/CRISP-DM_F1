{
  "nbformat": 4,
  "nbformat_minor": 0,
  "metadata": {
    "colab": {
      "provenance": [],
      "include_colab_link": true
    },
    "kernelspec": {
      "name": "ir",
      "display_name": "R"
    }
  },
  "cells": [
    {
      "cell_type": "markdown",
      "metadata": {
        "id": "view-in-github",
        "colab_type": "text"
      },
      "source": [
        "<a href=\"https://colab.research.google.com/github/esuarezs/CRISP-DM_F1/blob/main/Trabajo_Base_de_datos.ipynb\" target=\"_parent\"><img src=\"https://colab.research.google.com/assets/colab-badge.svg\" alt=\"Open In Colab\"/></a>"
      ]
    },
    {
      "cell_type": "markdown",
      "source": [
        "**CRISP-DM Fase de Entendimiento de los datos.**\n",
        "\n",
        "Base: Negligencia Médica\n"
      ],
      "metadata": {
        "id": "SWeg7u8IjsOA"
      }
    },
    {
      "cell_type": "markdown",
      "source": [
        "\n",
        "\n",
        "\n",
        "![OIP.jpg](data:image/jpeg;base64,/9j/4AAQSkZJRgABAQEAAAAAAAD/4QAuRXhpZgAATU0AKgAAAAgAAkAAAAMAAAABADsAAEABAAEAAAABAAAAAAAAAAD/2wBDAAoHBwkHBgoJCAkLCwoMDxkQDw4ODx4WFxIZJCAmJSMgIyIoLTkwKCo2KyIjMkQyNjs9QEBAJjBGS0U+Sjk/QD3/2wBDAQsLCw8NDx0QEB09KSMpPT09PT09PT09PT09PT09PT09PT09PT09PT09PT09PT09PT09PT09PT09PT09PT09PT3/wAARCAEQAdoDASIAAhEBAxEB/8QAHwAAAQUBAQEBAQEAAAAAAAAAAAECAwQFBgcICQoL/8QAtRAAAgEDAwIEAwUFBAQAAAF9AQIDAAQRBRIhMUEGE1FhByJxFDKBkaEII0KxwRVS0fAkM2JyggkKFhcYGRolJicoKSo0NTY3ODk6Q0RFRkdISUpTVFVWV1hZWmNkZWZnaGlqc3R1dnd4eXqDhIWGh4iJipKTlJWWl5iZmqKjpKWmp6ipqrKztLW2t7i5usLDxMXGx8jJytLT1NXW19jZ2uHi4+Tl5ufo6erx8vP09fb3+Pn6/8QAHwEAAwEBAQEBAQEBAQAAAAAAAAECAwQFBgcICQoL/8QAtREAAgECBAQDBAcFBAQAAQJ3AAECAxEEBSExBhJBUQdhcRMiMoEIFEKRobHBCSMzUvAVYnLRChYkNOEl8RcYGRomJygpKjU2Nzg5OkNERUZHSElKU1RVVldYWVpjZGVmZ2hpanN0dXZ3eHl6goOEhYaHiImKkpOUlZaXmJmaoqOkpaanqKmqsrO0tba3uLm6wsPExcbHyMnK0tPU1dbX2Nna4uPk5ebn6Onq8vP09fb3+Pn6/9oADAMBAAIRAxEAPwDkHDA81GTW/f6YYycL2rnrkmKQiuRNPY7GrC5pUJzVR7g0wXLZq0mTdG/bSYwKvo54rCs5icVtW5yBUNWNYu5a3nAqvKCatIoIprxipRRmzA4NZtwMHNbU0fWsq6TrVxZm0V7cZcVtbD9lxWXZoC4roYbYyx4A7Um9QS91nMXMTHIFZ7xSDOVNdbc6RJyQDWNeWMyZ+U8V0RvY5GlcyOR60DqKm+xzu+ApzViPSrl/4G/KqIHWWciunsXOwVg2+nTxEbgeK27EMBg9qwqHVRNSNzUhc1DHTyeKwZ1EMxODWRek81rTdDWPejrTiSzEmPzmtfw5MUvE+tY9x981f0WTZcofetp6xMYaTPThJmNTntU9nKAcZqnbFZbYHA6VPb7RIOlci0Zu1ozU3n1q1bO2etUhtIFW7cjIrrp7nLLYvI59akDt61EtSDrXSjmY7e3rQXb1opKsBC7etROTjrUhqJqCSGQn1qSxtzM5ds7E6e5qNxmtK1j8q2Udz8xokNEcobkZwwOVOKqSTNIDIPvKcOvcf/WrQlAfj16e1ZF7vicTIOV4Zf7woWpQt7c+V5N7nMakLJ7A8f1qBHNvqBQngnAPrUgEV5ZyRjDRSrnHpWbFI8tlG7f663byZD646H8Rg0dBon1FzHeFWOA3INULrW7iyQJHCjBTk7sir+rjzrOK4XtwayE23lsVb/WLxn1pq19Q6Etn4jvLmfYY4lJGAQDUPiDVtasrYPC8axk5JEYP86qwoYZwR2NdLNbpqOnmNwDuWtbpO9hHKaTe3mpgl5svjqFA/pWrl4nhhdt0icscY5PP+FY2iI+la5JauDsGWB9hz/8AWrTErSztKxyWOQaKj6IcTRuIzGQeqOM/415b8SL+4jntNLZcWcY81Gxy2eP0/rXrqBbi1Cn04rhvH2ifbdMMmzMtsS68dV7j+v4Vn5A9UeeeGtZuPD+sR31oFf5SkiEcOh6j2+opdc1G1uNSll0+OVInO7bJyQf8B0qpHF9mOMko54J7UlxGMZoaTVmSnZ3RJc63cTaTHpqokVqp3MByXb1JP8himaHqsmh6nHdxjcoG2RSPvKev496pUn0qA3PR9Ru4721WeGQPHIuVIre8LQtZ+GIyeGuZXl59Puj/ANBryzTNRksQYWDPA5+6Odp9vrXsfk/ZbCztv+eUKqfrjn9c1q3eIJaieYQwNYXiW28yMSr/ABvk+xra9KqamFezZMZJOfpWSZoUdOi2afJ9AKWxjxJ+NS2ybNPPueKsabb7jn3p9Q2NWyRkRnPYU7zTT5CIrbaO/FZ/n+9BI3UbZSDx2rzzWotlyQPWvTr4dfpXnfiGPE5PvXmQ0kdjd4mL5Qxk0141AzTvMGOaikmyMCulJmTaRcs3HAreszkCuWt5SHFdHpz5AqZouDua0fSnkU2IdKmIrKxtcozAYNZN0nWtyZODWReDrVImRBZD5xXY6OiyJiuQs/viuq0WURnBNH2kD+Bm7HZK+cjiqU2kI8/3RzWrDcrkDIp0kqAg8V1pKxwvcxo/D0STg7Bj6VpJosQx8g/KpZL6OPBJFRS6xEg++Pzp2SJKt7pMachRWBNCIbggdK07/X4jwHB/Gsk3i3MmQawqJdDppMspTjSIOKcBXM0dVyCUHmsu8HBrbdM9qy72PrTSsJu5zVyMOasaZkTLj1qK8HzmptMx56fWtpfCZL4j0fTQ72oxnpUUkksVyBz1rU0gL9jX6VHexJ5gbjrXL0ubXu2ixFI5QVoWu4kZqlbYIA7VpwgAjFdFPc56mmhcQGpRTEqQV2RORhiiloNUA01EalNR0CEij8yZV7E81oOA/Q4IqCzQZY9+gp8r7HBPAPek9xjHlMfyzDg9GFRXMYkG8YIxz71YcrICrgYP61RlSS1JeP5o+6mhAZG9tOvf+mTHOPSjYsWpyx/8s7pMj3Yf/Wz+VW5hDqMLNGeVPKngrWRcySRIA3+utHDr/tL/APqzVW1K3L8YzDLav0IyM1zyO1reFTwCcGujkKybZUPBGQR3rD1iHD+YB15pAuwtxGMhx0PNa2mS5hAJ6cVj2somgCnqKu2D+XIUP4VQMbq8K204vNgKMpSQgchT3H0wD+dVfL2Yz06gg5z/APWrckQXMDxNzxiuctnFrdfYbk4VT+6Y9v8AZ+lUldeaBM37F/kA/Ck1GyW4hIwDkY+tQWzlHTggZIOa1SAUBPcVLA8I17SmsL24tCCFB3Rn2/8ArdKyY8vEd33u9epfEPRPNs1v4V+eE/NjqV/+t1rym8AEkZH6U76EtFSQqHIyKfbR75s9QozUZjUbzgfewKvadCojMm7q3K+mKjqBreG9N+2eIbKJlBQyhmHsvP8ASvU7x90hPcmuJ+HtuZtcuJiOIYSc+mTj/GuxkIMhJPyg9ab2KRDNOtvAZX6KOB61n28jXUEjNzIxzgdqfqT+aiY+7k4FM0gfvD6CkloUyxc7baGGI+nNXtOQJAGHfms3U+ZB7VoW8ghsI8nkihCZNcyZwPes6rBcuA3vVTzBQFjZuhnP0rg/E8eJCa7yY5JrivFCck15kX7x1rY41z1qKpZOpqKuyJzvcWM4cV0WmSdK5wcEVs6ZJgiomi6bOpi5AqyAMVVtmBQVarE3K8w4NY96OtbcvQ1jXvemgZWs/v1qxXBhPFZln9+rdw+wZpdRr4TRTWmRxzS3OuMBkVzbykuOe9TSOXjxXStjhluSaj4jlIwpIrFl1i5k6ufzp95F8hNZh61RBZ+3TE8ua2dJuSXG41ztaGmyETAZ4zUzV0aU3ZneQuHAxVnFUbGVfLGPSr455rmOwRxxWXepwa1zjZWZe4INLqNHL3w5NJYHEgPvUl+nJqKyyZAB61p0M18R6NpN+I7UAnoKrajqweQAHvTNMtS9qM+lZ99ZsLkYzjNc6SudDS3Om068zGvNbtrNnFc/pdv+4XPXFb1sgQCt6e5zVbGoj9KlFRJ0FSiuyJxsXmiilqgGmm0402gRYiBEIcdc5IqU7ZU55BqMP5SJnoRzQ6FCWTvyR60hlWUSW2eC8XtyVpBcq4yCGU9Ks+cOjcfWqN1ZE5ltGCueSvZv8DTAz9RtZIpBeWBCyr1Xsw9DVOaWLUYFuogVkjOyWM9V+tWhfbHMU6lHHBU1TkMdpeickCKQbJD6qf6g4NUtVqNaDdNulObF+JIxmMn+Jf8AEVJdQiaFlI5ArI1eOSymE8f+ut2yMd//ANfNbsc0d1BFcx/6uVQwoa6jZzdu7W1yUPY4Na6HJEi9e9UtYtTFIJ1HB4OKdYXGQAfpUg+5sJLiZT2Yc1meI7LzYxOg+ZeuO9W34AI/h5qyNtxCUbncKpNp3EY2kX/2grFOxMqDC/7X/wBeuiMpOEHYc+1cXc2zWt0ycjacgjitzRdSW4cxXDYlxkE/x/8A16tq+qGzWvrVbnT5YnAIZSOa8D8S2DaTqrwEHYPmjJ7qf8On4V9BpIHQHsa84+Jnh83GmPcwr+8tyXGO69x/X8KzEeVZ/cA/3iTU9lKEcof4hx9ark/IgHYU0kphh1ByKQj1j4bWbHTdUuAPvMkSn6DJ/mK0NRuV85YI+33yKj8HTDTfh1FOOJbuR2T88Z/ALVJOZMnk55J71Vr6lonvDwg9qm0kDDNVW8PKj2q1ZfurNnP1qUNkN8cyD61JcXBeSOIHhQBVaZ/M8tvfFNhk33o7ndgAc5qbjsbflsYESMZZj+VQ/wBjSf8APwn5VrRWbCH5vvEc+1H2Bf7zfnWUqlnoaxp6alaSQc81yHicg5q9/bCyZwaxNVuluCRmuFXubuNkczKOTUIFaUkKnJqH7OM11xkrHO6buVTHjBq9YOQ4pDbgipLeMRkUOSaGoNM6Syl+QVdEtYdvcBAKs/baxbN0i/LLxWTdMTmnvdE1TmuM5oTYNIkswd/41Zu0Yp+FVbKXMg+tbEqB4fwpN2Y0rqxzbowNWI92zmknOyQim+Z6VupuxzOmrkUyM4IrNktmyTitqMF6ebYc5FCqdyXR7HPJbu5wFNX7WzdHBPFaAiVOgFOROaUqnRFRo2d2a1g4RACelaqXAA61hREgcGrAkb3rB3OpJWNOS5GOtU5pVfPNVZHb1qrLKwzzSSYOxHdRq5PNMsYlSYH3qCa5680tncAvWlnYhNXO/wBOlj8gDI6VFcyRb+SOtY9r57x/IT0pws7mR/mJrGxq2kdTYXEewYIrWiuVOBmuVsrOdMLk1u2tnJwSTW1O6MKlmb0UwIHNWEfNZ9vCwxV6NMYrsicbsTZopMUtWSFJS0Y6elAi1IqlEU9xgGq5lNs4WT/Vk8N6VNM6vEQrqWHIwaaNtxHhhnIwQRUoYkiLIM/rVN42ifIJ29xQS1k+0HfEeik5I/xFP81JRwQQelUBjas8UuEuUKN/yzmH8jWHNK8QaKcb4mGD710t0ikNG4DIw5BGa5y8tWtyfLJePsp5x/8AWp3KQsn+laahLb3QeWW9cdD+WPyqLwvcEWs9i55t3JTP908/pyKpWdyIbry8kwzjbz/C3UfnzRHL9h15H6JONp/z9c/nTWo7aHRyxLdQPG3UjiudiLWtyY26qcVvxy4ce9Z+t2vS4QcjrikxIv27iSPHtSwyGOTae3FUNMucgDNWrj5JAw6HmgQzW7USIJ1HK9awZNyEOpIZTkEcYrrAVmgKnuK528tzDIyHoDxVJ2Y0b2kap9vhEb7VljHzdt3uKsajEk0LBwCkg2kEZrlLGVobpWU4IPBrrZH822LdiAcDtTaV9BHgHijSW0TX7i02lYgd8Xuh/wAOR+FZD9DXqnxJ0f7do8eoxrma0+8R3jPX8uD+deeeHrIaj4hsLdhmMyhpB/sr8x/QGs2rAeqRx/YtE06w5C21qikHj5iMt+pNVLcEuPepLmaSQy7iDuYtn681NpsPmZfsowKoa0Kl4f3+wcnAAA5q9cxtFYKgHPfPFP03D6rJwMgdcVHrkuzIzxmpasikrsqw20sxjjCfOx4XOa3tI0NLBzLMRJcHo2OF+n+NQ+Frf/QDdPy8pIUnso/xNb0Y6se3SuecruyN4wSV2OKHAUdT1p32X3ot8+Yc1ewvpUDPIIdMl2E81n31s8JO7NekQ2KbDwKwPEOmr5ZIXmsVdasrmvojiS9N3ippIShPFR+WTxirTRN2M8wUokpTbtjoaTymHUGnoF2BuCKdFcs5qtKCKZbud4qlFNEuTTNxEaRM1VuI2GeK07EK8Yz6Ul1CuDxU2SL1aMyxz5g+tdJGheP8KxLWMCb8a6C3A2Y9qznuaw2MW+tSHJqikbb8V0V1EpBrLEQ8w/WrT0M2tRsKbMcVeihMgximCMDFa1lCpwSakq9igNKzyaZLYeV0rphDFjgiql7EmKb0EncwEiINX4bfeKrSDD8dK0bXoKlMpogks+KoXNrjNdA4yKz7pOtMRy15CQTTdNjzcqPU1bvk5NQ6dxdL9a0voRb3kei6TpymFTjtWqNNUEHFV9IcGBPpWsW6VlFJq7HUk07DIrJUIOBV6KFRUCPyKtxnpXRBI5pNslSMCpQKjBqQVujJi1WvtRttNgM93KscY6Z6n6U3UtRh0qwkurhsIgyB6n0rgrHTb7x3qD3l/I8Omo2Bjjd/sr/j/Wm2CRYvfHeoancm18PWbu2cblXc3+ApsfhXxZqxD317HAW/hklLEfgK7mwsLTSrYW9jAkES/wAKDr9T3P1q5D/rRRbS4X7HAf8ACttWQbhqtuWHPIcVe0PTr7TJj5+rzs6HmGI5Q/Ut/QCur1jWbPSLVXvZ1iEjBVz79/pXO3V4ttI4OMk5JBzn/PFYzk0bU4qV7lm/vRNzIoOOhBxUMNwQC4Z8Y9c1ly6nEQdzAY5OT0rV0pzeIW8pltgufNYYDH0Hr9ahSfRm7iktUV7q/eOPeS7/AFI/wqh9vWV9sisAeARzWtc28GTtBIHaqmYIzxECR1o55LqChF9ChcaZbTOJfMlR+p24GfSqmq2yzomx2V423KxGa05pS78KFXsBVeSLzByaXtZLZjVNdgtr1WAVjhx68ZrR3rNCUbnIrJ+xZqzEk0WMHcPetoVk9JGU6LWsSimbG9MZ+6Twa1pCJIQe4qjqMLXEeVU+avI96W2lkEIEiMpHByMVqpJ7MycWt0aFtPgYPaoNRiEqbx1ApuHHIVsEZ4FPDs6EMrfiKskwydkgPoa6S3uv3CN1GMEetc9fxGN92PlJ/Krdncg24XPSmDLdyEkR42AaKQEFTzkV554f0RtI8V6ihB8uCPERPdXPH6Aiu4luDGc9UP3h/X61XuYw48xBubAywGcjt/P9aGuoIozHg+9bVjCIbAE9SMmsoWdzLIoWCU5OeENdAbO5NsVWI5xjBIpdAZj6Oc6rK38OSCTVDxBMN8ihxlTjjnNatho95b3TPPbHaWyDkGrD+E5b+8864uIooywYqvzMcfyqJarQuLSd2T6YBbafbw9NkYBq68p4UY5PPtVlNMgt+Tvc+pb/AAp6CBOPLUe5GawVN9TV1o9EQSXHlQ5Q/PjGfSq267/57P8Ama1xHBIM7FOParG8/wB40ey8yfbLsc9YyCRPxqPU7cSQnjPFVdEm8xOvetW4TMZ+lc6V4FvSR5zf24WRhiqEcShzW1rmI524rC8wo+azV7GnUvQxKc5xUU0ahyMCoPtrR9KY91k5qkmK6K11FjOKoJ8j/jWnKd4zVCRMPWsHpYzmupvaZJ8oFW7roaytMkxgVrzcx/hQy46ooW4/ffjW3GcJ+FY1uP3341vy27JZ2k3O2WMj8VOP5YrGe5rBpaGZdS8kZqujgZOaivid55qmJGHeqitCXozS84d6vWtyABk1hxuT1NSh2HQ0AtTpheLj71RzTLIOtYkTsRyTVlCcGk2Wookc88VoWfQVlofmrSsjQtwa0Lx6VRuu9X+1UbocGmQjnb/qaqWX/HwPrV3UR1rPtn2TD61a2JejPTNDlHkIM84rdwSAa4/w/clwozXZxEeWKyj2CorO5NHGSoq0iEYpsRGBU4xXVBHLJigGngUCguEQseijJrdGZw3iV5fEnii30KBysER3TsO3c/kOPqa7W2torO2jt7dBHFEoVVHYVyPgGP7Vfavqb8ySS+WCe38R/p+VdpQu4PsJSPcR2sUk8zBY4lLMT2p2K474kaq1no0dnGT5t22CB3Uf4nAqm7IIq7MaxtpfiH4mmur1mXSrY4Kg/e9EHuRyfQfWuwv/AA/ZajMNrzQRxgKEhIXgDj6dqzvAFg2meHmiuOLhpnaQent+GK34piWfZEzAHGQODXM2nudCTT0KFr4a0u0kEiWiySjo0xLkfnV+4Rih68DgDjFJJLd5+SBcf7UgH8qW6uBHCMj5yOQDnFLQrW+pxmp3N4l0FRWAz2Gamj3uAXBDY57VY1O9jTAJ2t1qhFfI5wWJ+prJ6M3WqLMjgYGOtRgnPtUnnxY6g1EZV/8A1UhonjPTirSYI6fjVWMjYCO9WYjnAFNCbH+WMdKq3XyIQOtXMtjA6YrOvvkQkn/69Owr3LtqMwRNk8xjI/CnOR0yRn3qvZ3gFlbkrwYs5zVWXUeSAmfxrvj8KPOlo2XXkPQ4PaoZHX+6v5VUF8z/AMA/OmS3hAHGMmnYm5b+2W1iRJdCMRyMsaZTOHOf0raQqANu0fQYxXIXgbUYJIVU5QeYCe/b+v6VvaJeG60+MvnzY/3cgIxyO/4jBpMpM0TIU59KPMRwMjhh9KZInfeAOtQJcRF/LUM7qM8cCkUOlSWL5oHJXrtPNNjvlJ2zLhvWnPMw7KB9c1BMEkHbNKwF0Sbx8jkegzmqsxkz8w/EcVS3ywn5G49KcL3f9/JPfNG4FyO6EQ5ZR+NT/wBoR/8APQflWU7qfu4pN49KNQMPwveb+Ce9dgfnj/CvNPDV15c4Gepr0W3lDwj6V58XZtHVNXszkvEtvhy2K5WQV3niGHfCTjtXDTDBI9DUrexfS5XkHeom7VNJ0qA9K0RLJk5SqtwOc1PCc0y4HBprRg9ULYyYcVvB98P4VzNudj1vW8m+PHtVNaig9CbTbVr3UobdTjzXCk+la02u6da6JDDc2OptFDI5VkaPcC3qPTIrP0UtbaxZTkARrcISx+v/ANesezvZZdVmtrlhNErsrAnAYZx19aydm2+wN2Zo67ai0vTGrl42RJI2IxlWUMM++Dj8KyO9dP4ks/Oit7uxDzW0NtHC7Hll2jHzAdMjHPT3rlXODVR1WhV7q5YiPNTgVVtQ8swSNWdj2AzXT6b4blmKvcnap52g1MpJbjUklqZFujOSFUsQMkAZqwhrW1a3EMhtrCJWMURkk8vqF9T7DPbNYaSCpTvqaQldEoODV+yfnFZRfmrlnLhxTGboORVW5HWpo5RjrVe4kXB5pkJamDqI61lRD95+Na1+Qc1mR/6z8atbEPc67w9G3DV18dy3lgelcr4b/wBTXUQ7ShrFbs0nsjQtrhigq/HISBWZZkbCK0oSMCumm9DkqLUsAniiUF4ZF7spH6UCniuhGJyPw7cJZ6lbnh47ncR9Rj+hrsK4aOUeF/GcjSfLZXnyu3Zc8g/gf0Ndz9Dx2I5zTXYH3FFcDqsY1v4pWVoRuiswHZfXaN36nArvh1FcH4NBvvG2u3+M7FMYb03N/gtE9iorU6W30zzbx7x5GSNiT5Sn7x9z6fSr0Z2BgSAM8KO1ZUOsMSLKOF5LhSQVA6DPUnsKtGKRF/011DPwEjPT6n1+lYX7G9n1JzKhONwz9ajl2DJOMYqvLZ6fGc/Z1Ldclif61RvLmOKAxwA9eOc4qblJGdr8MEhDAjIPrWPH5IPBzijV3mLgKGI7k1VtkYjNZvc2jojRG04x6U8DkdaZEDxU4SpGXYwuwZParduFH5VnxuBV6GRcc8VSIZJNMqJwKx9RkaVAADkcVYmmzIR6cVD5kZR8kdKe4JWG2w36fbkk8KV/JjUbxrSWVwHsoyDgB3Xp7/8A16ZLICcA/jXdD4UefU0k/UYf3Z9RSkqVPc0x3XkZ5zUfmqnr0xV3IJ7V2F/DtwCVZee3T8+9adqjWWsPEn+qnTAB7MOf8RWFFM/2qMwsFddxBIz2rWlsme2jnM8xmGG3Zxg/QUWuNOxpFzI/JqEhYWJ3Hg54qVtssMc6DAkGSPQ9x+BqArzzUmhEblt5VuMHg+tPAJ5B5pJYVkO5QflGCfWmjMZ4PSkBBJcNG+GHFOO2UZGD/SluAsoyB8386olHjOVOKTAncOmcfMB6dqTzT71CLlh/rPzqf7Uv940hnn2lTGKdT716XpV0r2ynPavMYAI3B9DXS6dqyxIFJ7V5897o7FG6szptWdXhP0rgrzHnMB61t3usK8ZAPWsGSQSOT61Kve5XLZWK5zg1WOcnir2VphC5rROxLiVod2/pT5kOOlbGnaK19B5sM0YbcV2nrVmTw1qAB2xK4/2W/wAaHNXJsrWbOUEbb+lats5jjLNnCjJx3/8ArnpUtxpVxayYuIvL+XcWJGAPc9vxqKOZQ6+XnavKsRjn+9/gPx9qJTutASS2LJlvBGEULI6NkKTjae4B9uB9c10lrp+l3tndStFfwFFDuqRxfuyxxwd3zZJ9q5y3mG8AdOgrrNKQHStTb1hj/wDRlZPSyL5VZamK14NHvV/s17h4FUDM2N59enGD6VFqMeg6nB56u2n3o++qrmJ/fH8J+mR9KTUAcniqIiZ/4apX3Wg3TV9DY0dNPsLIyCdTvUlpG4yfp2+lS3XiWUx+Xp0e1RwZnHJ+g/xrJjsmcglc46ZFWBasnaptrd6gqae5vQ6ZPc+JDrCTK9kwMhw2Wx5edm31xkYrkhGePSuv0mGbZNnmOK1cgE9MrjP61gizOBx2qYSbuXTSM8xEmrEKEEc1a+xmnpZmruVZDkkwBzUchBqU25AqCVCM0XYWRRuUV81Vjt18yrEzgZqCOVfMFWr2IaVzpdFdYUxW1HfLHkZrm7J94GKveU5I61nZ3LdrHQWt91rWtrrIrnLOFuK3LaIjFb00zmqWNaObIFTIc1TiTGKtoK6onK7Gfr+iJrFmVG0TKPlJ4z7VzOkeJLrw/J/Z+pxySQxnaM/fj/xH+Qa7wVU1LSLLV4dl5CHIGFccMv0NVYlMjj1uwubKae2uo3CRliucMMD0NYnwttgdGvrtlybm5IOe4A/xY1ka/wCDH0iymvrW+DQwjcUlXDD6Edf0qnpuleLGsIrjTGYQTDegScIT+GetJ3e5S2O/uHt9OFw0KLHhwzDOC1YN94nt5JisKtK6nOEXOK5y90jxUq+bq0/2a2XmSaWUPtHsAeT7VjSTXmuTCz0mN0tQdoZjzIfVm9e+B0qHG7LU7I3r3xzCJCklvOhHBIw38jVYeLbSXku6gfxNGQBWhp3w4toIw+oSyzy4yVU7F/xNW38HW0WGg22y5yRktn86fskx+1aMC41qzvgFS7iY9wGqe18ojhlwOnNVPFPha3S1Gp2MQSaBh5ihcBh2YD0PT603RLC2uPOv3P7sptCA4yx5P5f1qHR13LVbyN2MpjNOkkHt+FYv2K4ueLR5IYlPDAnJ/OnnSr3GPtUv1OKTovuV7ZGn5wB6imPerGCWkAA9TWNNplwB+8uZT7A4/lUZ0QRDfPuLkcKTnb/9ehUX3E6qLdz4ksos7rheDzjnH5VD/bVnMCEuE3YyVJx/OqI0gXlysQQBQCzccYH/ANfFNk0mCHcXRXLfeyOv/wBarVFEuq0bNjcJJpqENlfNfpznpUhnzwo61DaiAaVaRWtv9ngiDKsed38XUnuScmlfgZA56Ct0rKxzN3bYhl2Z5H86hMzP06Ux42SQZO4M2GGMY+lPx1HahO5NiIXMltMkke3eAQNwyKnPiTURgSCAx9MhOlVnTJOf4RUQCklSOD1qkB1WgajLdCa3m8sjHmRFBj6j+R/CrzkdTXKaVI1reRywkgI2SD3H/wBcV0lxuzwcqRkEdxRJW1Li76CSXHUDoeDjjNRSSr0XjimkHOcZpRHuB4/SsymhhlI/+vUZcknIqUxe1IYzQ0IgKB6X7OKcYznIqXBpWGeZCYZqRJiO5qsI+anEfFczSN7sc9x3yaie9A70yYcGqToxzSsh8zLRv6YdR5xVeOE45qGSPY/401FMTm0dxoklzDDDJbLuWRQ4YE4J7g+/GMfjXV3WqtYGRHiJZepQ5HT+nSuf8I3xtrWyjGQonLtjnPGOntzW5qtsI7Z88kZyT3rnSUm0+g7X3OF1zUje3jMzOUzkIx4H4evvWcLlugqPV5Nl02PWqkM2SOa6YQSRm5NOxuWczGQfWu+8PZl0jUQepgU/+RBXntjgkV6J4Yx/Z991/wCPbP8A4+K56ujRtFtxIzpnndqni0FePlrVtdpxWiiLxVU43Cc2mYqaOqDp+lU7rTvLUnFdUQMVnXyAjHqcVc4JRbIhUbYaWFtdJupiBmQiIZHX9O+ff8qwpdOMUzJzgHgnuK1Lx2i01YFOFaTJxxnv29OKY8glgSUY3L8rADGP88/mK44O1uzOhXWvczRZGpUshVsODT63Vhtsz5LMYrOubXrW9IOKzrkdaGC1OYvYcZrMCESD61uX461j4/eVcXoTJanS6LCHArporJSAcVy+hzAEAmuztZA4FQtwqbDobYJ2rQiQAVClWY63hocsmTRirC1FHUoroRiyQUtJS1QHO+PpvK8I3K5wZWRB785/pWzosYttIsIx0SFB+lYHj61mvdGt4IF3F7lFxnGc5/8Ar108SLDbxqcBUUA57YFHVh0OG+Il3Pq+t2Xh6zb5pWG/HYn19gMmtiQ2eiwRaTpdqLiWBcADgJ/tM3qev41zOh3DXvi3VdWX55Y9yQDrhm+UfkuTXcQaWunaaFAzM3zSueSzf/WqUVsjGm1XULWPE15B5p5WFIN+PqSarSa5eSBQyQoxOGJHH/1j+dOks5fOZ403yOTyT0pv9lR26GTUbhQD1ROSa0SQim7y3U13EymSFrZw8gPAOMjr3yK5TR7gCwaBc5Mpzj0roBcSiG7LORFbRzDB4zxgH6kEVh6CVj09n27naQ49uBUtpvQa0OmF8sUCRxqAFGM4qeUi3tlEhLTyc7eu3/69Y1uJBcrJMPlU5APetT7StvmXkzN/Geo+np9aPUBvlfZx5txjzeoU87fr7+3as25l8xiTT5rhpSWY8dqfZW4fFxMv7tTmNT/GfX6D9aNwFjhFnaksMSzAFv8AZXsPx61Te3EpywyOy1oShpXLOc5OST3qCWVYxgdadwsQnIjRCAAowAPrmq00hAIqXez5IGSaQW7OctyaV+4rIqo8hIJBI7c1OCEALEj6jNWBCqdufWmOFHJ5NO/YOVFUgkyHHBxj3qAo4Odpxn0q1nL5OenQUj5c4AwKpNi5UFvIApyMVv6ZcLcafsyC9u20/wC6en5ciueldbWEPMheIsoZQccE9vcV0WnaZb2qGe2O5JYyAwJOR1/QiqbTQkrMlJWo/N5B7dKXYT3qvPdW0ORJPGp9CeayuaWLeQaaRVBtcsk4QySN/sr/AI1GNbaQ/Jb4HqWoEaJHtS4ql9qlkQsflAHOKb9tH95/zpXHZHn2MGn5wKbIcUzfXPY05hs/eqvrViQ5FVietFgbFBFVp/8AWfjU0fU0+2tWvtTgtl/5auASOw7/AKUaLUT1O+8K2Lf2UM8FkD7SOvpXQ3sf2iwDnksuD+FUtHkX7VLGmBHEuz06Y/8A1fhWrIAkEyH+E5H0P+RXND4rvqW3Y8e8Qx+XeOPeseI4Irf8UD/TX+tYCda61sZvVm5p0vIr0fwy3/Esvzn/AJdSf/H1rzCxOHFej+F2zpmo+1m5/wDHlrlratHRHY1bOY5HNbkTkgGuZsDvwc101sMxinSeoqyJqqXCZkjGQOc8nHSrwHFU70+UjsD8yxkgZxknj1/xrSs/cZhBamZfOxjgDZ5BYZ9zj+lMsyu9o2I2yDHP+fx/CnaqgiuRGOkSKn5D/HNVA5BDDqDkdq5VH3UdsVdEpBRyp6qcGpweKbclXKSqchhg/X/9VIhqou6HuriyHis+471dkzVK4702CMS/+6axT/rK3L7oaxH+/wDjWkRSNCxmMUgOa6/Tb8HaM1w+SADWlpl2wmXJ70ra3Jm9LHosMgkxVpDismwl3xg+1aSPmtoO5yyVi5GamBqrEasit4mTJRS0gqpfX7WTW6xrueR/mOPuoOv4kkDP1q72Qitrbj7VpMZ6NdZ/Jcf+zVo308NpDKbkrtWJnIYcHA6fU+lZRzdSaffNOpjgkcEOeW5HP1wpqfxBL5mjQwkqz3dwinHOAPnP6Lj8alu1yktUil4R0FbBEu5oo0kfkRp0H+0fU/yArp5EBDIejCoI0Ecap/dAFSu5MQPdeDRayQm7s5HU5Wt7l4VJBU4NZMqPJk8knua6PWrdZZBOB83Rves4RqOuKvcDmNREkNnqMQVmmuUDRqoJyu4A9PQgD8avaDYxWOgW7XEZ+0yZfy2GCMnjPpxitTVZIFs7VwoEgmYBwOgCcj6ZZT9RWbcSSykliRuPOeSahbse4yWVQ5bhpD6dBVOWU5yxJJ7VfhsJJRuxsTuzcU/7NDDyDk/3j3+lVbuHoUrazaVxJcD5ByE6Z+vtV2SQDr1x24xTJJgBheBVR5GfpmlcY6WYngVWwXPNSJGzmrCW+OTxQBGkfQCpNgQc0ryKnSq0krNwKNwFllAzg1Udy5qcQs/JqRIVHamlYRUSJj61PHDirCJzTwlVcDL1iPOmSc4+ZcfnVTTNVvLK1ktoXHlsdwLDJX1x9ePyrU1WPNg4/wBoH9ayoYfnP06U76BYq3V5eXBPnXMrD03YH6VWtkw59TV6aEhjxUEaYkFCAuwx5xWlbQ81Ws0zitW2j5+tSwHyJstj71R2GtW5TEIHvVLZUoDgJjg1X35p9y9QIc1gWTn7lVT1NXP4Pwqk55NADYz89b3huNLZ7vU5h8lvGQue5I//AFD8a58HBrodY/4lvhuysQcS3B8yUA/j/Mgfh6VnU1tFdRrudL4RkaWAyMcu5JJ9c11VxyAe0qbT9f8AP8q5PwVj7KM9O9dbdYFqCOdpDA1ElrZdh9jyfxLHm9f61heUc11fi6HytYmXHBO4fQ81jiwlEKzNGwjbo2K2i7xuJrUhtQQ4r0Lwrzpmo/8AXjKf1WuHjhwRXceE/wDkG6kv/TjN/wCy1z1d0dEdiTSrjOBXX2Uo2CuD0xyjiuusJCQKUHZjqq6ubcZzVe5j811TnDyIpx7c1LDTz98HHIDsDj8PT6961q6wt3ZzR0dzn9Vy87v3ZiapDpWlqSDBNZXmKKxmrM7KTui9a4kjeA9W5XJ7/n6/zqNagjuBG4bPQ9jirVw6pIHB4cZ/H/PP41mnZ2LtZ2CTpVG4HWrJmXHWqs0q4PNXcEjHvhwaxpB89bN9IuDWNI431pAiZIR8lJZTbJwD607OUqi8hjnBHrVRV7ozqO1meoaP+8gU57VsRoRXM+GLrzIEBPaupQggVVNGE3dk0VWUqnGcGrcZrpRiyUU03MNq1zPcY2wW4c59Msf6AUoqO6s4r2MJMuQrBuO+DnB9RnBx6iqauhI5SKXUBalYYVMcUYUq/GG6n+eKs6O0uovpYnG3yvNlIznOWwP0UiuthsraSI74UbB5JHNZdlFH/a9/JCoWOMrAijtgZP6k1NruzKv1Rp04d/Q8GmUua0sSY+qhos+lYMsvpXX3tsLqAr/EBxXHXtu9vMVYEYPelsUiG/wRYQ5IzG0h/wCByY/klSB4IuVXe/q3NLfRqZ4lK5aKKNc/8B3f+z1D5LP0FSlZtjYTXUknU8dvaqrkk9yferYs2PcfzpfsZHU/pVWbAoeUX608RonXmpZvKh+8zH2Aqs9yoQMsed2SMmq5H2C5J5mPurTCWeqUupTIcLHGPqCaiF/cv/Gq/RRRysVzQ8pn608Q46jH14rLkmuJEP75/wADiodjOPmZm+pzRYDZd4o/vSoMe9VX1WzUkCUsR2VTVW3iyCMdqZLYknco570rIZb/ALWiHKRSN9cClTUWkRmEaqFGck5qkls3AK1ow2oj8sMM85we57friiwXsVZXuZo/3m4RnkgLjNNjjAy3txWkI5DJ0YqSeSB6fn1zTXhUPJgcLn8PWmJO5myRhx71RMeJMVoISZAo7014czgAUIGWbKIhAfWtW2Tmq8UWxFHtV63SkwGXQ+QCquBVy55zVfFSB5XdSc1HEatXFqHcU+O1UYrm50bezYdY/wAKoSZya2BCuzFQPark0lND9myHQ7I3+sQREEoDvf6Dn9eBU3iO6N7rMrA5jiPlpj0HX8zk1taPbrpulXeocCRx5cZP+fXnt0rHNumRWamnNvsHI7WOu8HcWwB7jFdVJIDYDPdcH+Vcfod0lugXIFb11fJFpkUuflZmXP8An/69Jz1RTgzmPGEfnQ2V2oyWUwufden6GrPhi9ivtNGnXO0FThc96Cy6lo9/COWhInUfTr+ma563BhnEiMVIOQRxiiErJx7CcLs6HU/CtxakyQAsnXitHwsjR29+jAg/YpwQfotW9B8WwyRi01IDJGA571atVgOsX62zAxNYy8jtwKmo72Ki2lZnOWpCSCur06ZQBXJ3CR2xz5mcU+HXkhA+bgVKvujeVnoz0COYcc04yAb2OM7VXpj3/qK5O215Jdio4LuQoAPrWhrmqpYzpCGGWBYgducf0qpVG2lY5/Z2H6ncDB5rnJLkhzz3pl5qpmU4NZjyMSTmpm7s6qcbI0vtR9a1LWX7ZpskQ5liO5ce3+Iz+VcuHb1rQ0m8NtexsSNrHBz0FYtO10aSWl0WvtnvUElznPNGq232W9dVyI3+dc9ge34His93xnmqi76oNGrk0pDjrVJ4V3043CjvTPtCk9a3i2ZTSLIt8pxVeSwJcEirtvKuBU8kqAc4oTaYmk1qamgfuUArrIpgQOa4izvkQjBFbtlfB8c1SbTMpxTWh0kZzirkZ6VmWsm8CtGPtXVA5ZKxYFOpi9qfWqMySMnIXPyk81naJmSwM56zyPIfxYn+tWrqXybC4l7pE7D8FOKZpMXk6Vap/djAo6h0LNFD0lUA8VBc2MF8Ak6Ak8BhwRUwNRXdx9lsbi4/55Rs49yBx+uKljRj2OmwX73F1IW2tO4QA4G0HA/QCr0ej2qTgbGYejGn6Zbm10y3iPVUGfc1fAxIT6CktENsreTGk3yIqqvQBcYrnrob5HP94k10x4jkb0U1z0w+8a0p7knOX6fORUFxb+WI19EB/rWhNCZJvqaTU4sXJX+6AK1k+gHPXEfIpgiIq9NFkj61ILbjOKhjKUceTiniHt71ZEWJBj1qzJDgjjrUsdynbw4erRhFSRRcjirBj4pBco+SMjjvT5EBBBHGMVOUxUbikwRGN5QASN7njP51IYgkLADgLxSxjtU2Mxv/ALtNAYNmm+5OfSrsMIecnHtVfT0zdH2UmtS2i5J96OoMfs5UVPD9/HpUYAMh9AKWE/viPape4dBs3OaixUknQ1FSEeXCbfUnm471FFatUptWArk5UdXMw+04701JTLIqLy7EKAO5NRPbNmtjwvpqy6r9omIEVspkYnse39T+HrUytFNhzNljxBcLZQ2unIRiJA7Y7k9P6n8awHvAO9WL93v72e6fOZWLAE5wO35DFZssRDU6cFZX3E5tbF6HUWQ8E1tyX0lx4SkbPMF2M/Rl/wARXLxDmuh0iIXOj6vb55ESzAeu0/4GnUikk/MSm2HhfURHrkMcxPlXAML59G4qleiSynlt3+/BIUP4HFVYwUdWXhlOQRW34qjWa5t7+MfJfQLIQOzj5W/UA/jU2Sn6g5O2pmw3BLgmu48KSGSa76/8ecw/8drz+26j2Nd34MObq4HraTD/AMcp1UrIcJNpnP6nM3vWM8jODkmujv7MvGDjtWPJYsnUVpTimiKzfMWfCMT3GuWgyxCvvI65xzXQeKC15r1xGpIeEKoH4Z/rVj4b6Uv9siZwu1EOc47/AFrTvbAXus3l6MnzJSQT3A4/kKy5L1Xbohc1kjihHKnDA+9PAY12Vzo8dxBwAGrNPh+Qcqc1nUi0zspVE1qzBEbVNHE3rVy4sXtfvVX80JWR0KzNaSI6jo+4DM1vycDqO/QenPJ7GsCaM461r6Re+TehW2lJPlIYZH+e341U1azNnePGM7D8yEjGVP8Ah0/Coi7OxKVm0YU24Z5qBC2RzVy4j71SPBrqpsyqI1bUnAqS5J2VBZuOKtTbdlO9mK14laGRgRzXQ6VK2R1rAQKCDW/pTrwa10ZhZo7KwPArWi6CsSwkGwVsQvxWsTGaLgp9RIaeDWiMirrT40S994iPz4/rV22Gy2jHoorO14/8SS791A/8eFX4+I0H+yKfUOhI5plKabmrAeDVDWSZLe2tF+9dTKpH+yvzH9QB+NXM1SX/AEnXpG6x2UYiHpvb5m/oPwqH2GjRIAAA6AYFSvwCfUVDUkhzGgA60MCO4OyzY/3uKwZhkEepra1F9kKJ3PNZJXNXT2uIpx22+ZPqKpaoM3Un1roLaIeYDjpzWFqSZuWPqau92BlJD5kgFWriMRIB3NWbG33uT6VHfgmbHYUPewFOGIySD0q5NFwD+FPsohg1YljzH9DUtAUo4+9TbPkFOiT9zn3p46UhlKRetQkdatSjrVcipY0JGOTVgDgjuRUMfBqxH39xTQGPpKZvH/3a0ziIGqekR/PM57HFWZDvk9hQ3YOooOxCe5ptqczN7A0yaQIlQ2cjFDKMYfKj2qAJ5XxUG+nPCz9ZOvoKd9iH/PRvyp2QWOCiQelOkHHSlt8VLIBiuWxtzGe45rcdDpXhUD7s2oNgjodn+BGB3HPY1nWdm17qUNuoJ8xsHAzgVa8R3i3GpGKEjybceUmOhx1P4njPGcetZSV5KI09LmVs4qjcjk1fyMVQuT1rVIlu5BHjNdH4WO/U5YCeJ7d0OO/Fc1Gea2tAmEOuWbk8GTac+/FFVe6CZTiQhyG6g4raJF74XePrLYThx/1zfg/kwFU7+H7PqtymMDzCQPrzVjRHU6mbVziK9jMDZ7Z6H8GxUvVKXYG+hkRcTY9Tmu58Fc30w/6dZv8A0A1w5RopyrjDoxVh6EcV2vgo/wDEycettN/6LairsiqfwsLh18kZ9Kyb2ZNnGKS/vtkI57Vz9xfM4PNXRehNbc9L8I3QtdAur30yuQcdB/nqKs6VfLLajJGcc1gyytpPwwgDcSz4OCf7xz/IVzmma/JFldxwaWHd3KXdmdTRJHo1xdKkZw3SsX/hIHjkKnkA4rGGsNLkbutR5Ehz3NZVnd6HXQhpqal9qX2wACqiQtJ2qa3tcoGPSrabRwBXO2da00KfklOnUVo3qDUdHScD99bjDADqO/64P4moXANTaZMsV0YnCmOUbSD6/wD1+n41Eu66BLv2OauBway5eDXQarZtb3M6Jl4omwGx27Z9K5+46muinrqZVGmrlm2kxjmrUk3ydazojhKJJTjrV2uxJ2iWxNx1rU0y6IcDNYMT5FaFgcSD61rFGLPQtMmyBzXQWz8CuQ0iTgV1Nq/ArVaGMzSQ1KDUEZqUGtEYMpa+f+JHd+yg/wDjwq/GcwofVRVDXBnQb/2gYj8BmrNjJ5thbv8A3owafUOhPmkzRSVYhs9yllbS3M3+rhQuR647fXOB+NVdIikg05Wm5nmJllP+03P9ar6n/pt7baap/dgi4ucf3R9xfxPP4CtLNStXcroSZq1EQY1PtVAvVu3fMI9jiiS0ELJbx3I3ODuHAIOKqvpwGSJM+xFXo+n1pr/cNJNrYZngrECSCeMcVkXVr9okLBwo9xWtN/qyaznID/Wqi3uBWhK2oIwWJ79KqzKsjljn6VNcEAnJquXBzzVXe4WBJDF90D8ealWZpNofBycHAqqXGalQ/ID3zRuOwW5YvcxscrFKVUY6Dr/WphUMRxqF6nqUb8xj+lT4pCIJh1qqRVyb7lU+5+tIYIMmrMY6j0HNQIOtWok4J9qEBm2X7qzc93kOKcOB7mmDuvZScU4nAqG7saK9wcnFFgP9Cx/dkIpj9SaksMiCZcfdk/nT6AWafzURITPXg8U7zfY0Aee2z5qw54qhZvWna3UVrIZ54jMI0YqgGcvj5cjuAcHHtXM9FcpFrTENjp93qbAAgeXET3Y/5/Q96wJCepJJPJJ6mrA1oXKSWt19ok3HMajGFcnOfxGfzpbkWllB5lzBdyc4+QgY+tZR0bb3ZV0VC/yGqUxrUt/EHh6PIn0e9m+l0F/pUr6/4ck+54dZec5e7Lf0qnNroxaPqc+nWrdtKYrmFweUYN+RrWj1vRS42aJAoJ/ikJxVv+19KTGLC1XPpzUSrPZxZSiu5Brk0NxqXnwZ2Sxq2CMVmmQxyLIp+ZCGH4V1Uer6O+yS4BkCx7FhCgBf85qlc+KdNhJFvpcD84G+Q8/lUwqStyqImktblHxHGp1Y3EeNl0izFRztY9f1BPbrWv4Uv7axvS9zcRRgxSJy2eSjDt7kCs+bxVNNpsSW9vaJKhIeLaWzk8YOegXAwc8jPeq+laVc65qRIMVvO+SRtwBhScgDoePxqtWlzaWCL3SJJtOa+TAvbGLHGJZ9pqmnheSbcBqulLtHJe5xj9KhudNi8wzXU+S3JKD/ABqqLXT8ktPIQD0xTTaVl+QTTbuzvvEEVtqWh2thba7YqisJJWuZcFmC4GAB05NcunheIPhdd05uM5TeR+eKrvHot0iSO8kGxQn7oE7vc571asrfw2UImn1DfjgIowahOUFZX+4LKT1LMOhxR9dXtj/wBquRW1rDgyahC2O20jNZsum6fIhNql2CRwXlArMOj3YbmaP880rOWrZqm1pFHaR3Fs8fy3UQUcd6sxR2bjLahCv/AAEmuIi0S5I4ulH0q3H4fuHxm+A+gpezit2XzVuiOxmfQrdSZtbXjskBNYN7rujRzFYJ7mZV/iEYXP61n/8ACKh+ZL9j9Fpw8P2dsQzSySEcjOBQo011bD9+99DQ03Uow41B9ztuKtHKM+YpUg59RyBXO3A5Nac0iRoFQAKBgAVk3EoyauC1ukU00tXdjoz8lV5ZMcU+N8iq9wea0S1M5ysi3avmtW2wHBrBtZCDWxDIOKrZiTurnZ6TIMCurs3yBXC6RcDgV2NhKCBWiMpm3GanSqkT5xVpDWqMGLNEtxBJEwysilSPqMVQ8NyGTQ7ZW+/EPLYehXitTfiH5evc1jQ31pbaxNbJKglkw0kJOCCf4gD1z3xRfULOxr1Fc3MVlbS3NwSIol3Njv7D3JwPxqU4CGRmVY1GSzEAD6k1iFjr9/EIwf7KtW3lyMC4kHTH+yvXPc8+lNuyBIt6RbypDJdXYAu7tvMkA/h9F+gGBV006kNUtgIn71Zs2/ckd8nFVZKmsjxJ7UPYC3G7DA6jHel3g5BUjnHHNKgwg96CPSoGZtxsKEZbGSOlZcvlEgl2A6fdNal0SgI96zSWyOOlWgKlyivIT8+CM9Kq4H91jn14q9cbiaquQKYFZ06YH4ZqU8IOVznOAKQHk04bcjPemMUcanMe7RIenXrVioJeNWh9Hg/kaskc1LEV5RxVMg760ZR8lUpuqKONzAE+lAAMYz74q3EDsBbj2qATCPAAVU4wpIHfHfqf8cVIJCLoRscqV3LntTEnczDxI/8AvGkkPGKdLxPIP9o1A5rMsYetTWPEc+f7wNRDk1Pa5/0gfQ0+ghXBPNOxTalxSGeXWr1e38VQtY2q8F4rnui1FlG4t4zJuAKserIcZ/KovsqZzufPrmrUsRJoEXTmi6DlfYrGyixn5vzqrLEqZwPzrVeLjrVOaHrTTQnFlEY9Bz6VIEXjr+dIIxv5NTAKKG0gUGxY4067efUnNJNtBBCjJPJxU8e30psqAgcdKnniUqbK4dgeCR9OK7HwKc63GPVXH/kN644ff+7XX+BiD4htx04f/wBAes6kk1oaRg0m2YF85MYHtWQSea3bqNXQAdcVlvDhyCKulJWFWg7kSf8AHkPrUts+HFS/ZwbMY9abDCEOTVNppmcYNM2BNiEc9qqG5YucHvUck3yYBqONwMVilpqdLfRGpbytgc1bS4Yd6ykuAO9SC5HrUONzaMkkahuW9agllY96gjlD96cSKlKxW5WlDHNUpYWJrRcrVaSRa0i2ZSinuMt7YkUlxZGrFvKuatnbIKHNpjVNNWM21sTmte3selFui5rWto1OKl1HcpU0lYs6barGRXVWKAAViWqKMVt2rgYrWnJswqRS2NiDoKtpVCGQVdR660cUiYVDdadZ36Bbu2imC9N65I+h6ipAadVkmenh/TEwBaggHIV3ZgPwJq+EVECqAFUYAHGKWkJosguxOlFGaaTTGI4p9l/y1+gphOaktvkEh+goewIuE9B6U0yYWmGQnnpURcmosMq3OXJz61SkfZ0FaEw61nTGrQFSZz1NVJDVm4eqbmmNCZpYsvIPY5qPrVqIrGmAMsaAYXQxqFk3qjLVsiql7nzrBj1ywNXD0pMRFL9w1nS5I9x09q05h+7NZ5xuoAWO5Gws8DMy8HBAz+fSpbZJJbkTTKA7HAUc7QOgqqmXk5rWsgNwx165oC1jEuR/pMv+8RVaTvVq4/4+Jf8AeNVXOakYJ1qe3H76UeqA1BH96p4v9e4/6Z/1oAdipKYPQ1NSGeRx3WDU/wBuGOtY53q5U8FTgjPSl3tWHIa+0NN70etAvM1lEtT491HIHtDTe696pS3u8kA00hqqvGwkz2NHIhc7LAcnn+dSpIvdhVFw2cZpmxh3qXC5SqNdDYjlT+9T3lT1rJiLZ61YwfWs3CzNozuiwZUBrqfAsiv4ktsf7Q/8ceuKcHNdf8PAf+Eltf8Ae/8AZXqJKyuDk2rGPc3A9cEVnPelyc9Rxmpr2NjnHrVBImGc1pSirXIrSdy8Lk/ZQfeoftJpRG32NeO9Q+U2elapIx5mP+0MaXz2pY7V3/8A10/7FIeePzo0D3iP7Q3rTkuGz1o+xyDsPzpyWb9ePzo92wJu5bt5m4q2ZGxVOGMpwat9qwla51wbsQSyMKpyyNnrVqUdapS96uFjOpcmtpGz1rVic4rFtz89asROBUzWpdF6F+2zuHNbNr2rDticitq2c8Vg9zoWxs25xitW2fpWLCTxWlbOeK0ps56i0Ny3fpV6N+lZVuTxWjFu44ruhscMty2DTwahQNUoDelakC5pM0uG9KQg+lAhpNMJp5DelRlG9KAQbqsQn9xIf9oVVwatQofsx93xSZSHk5HSm1YSMkdOKXyT6UhlOTnNZV04jzmt97YHtiuZ1J9904X7qnApxApyOXJqI08g00g1RViOrltGXIqGKFnPTir0MZHA60CZDqSHfY4/56EVbKACob6PZJZZ5/eMP0qaQtSYiCYjZWfJwTVyYtwKqyod31oGRRD5xWtY/fP5VmRod4rWsUIxjqTTBnP3XFxIP9o1WPerN+CL6YejGodhqWARDvU8Q/0n6xkU1EPpT4gftijH/LNqQDuhp2TUrxZ5FJ5dIZ//2Q==)"
      ],
      "metadata": {
        "id": "0F6sK6uZ7H7n"
      }
    },
    {
      "cell_type": "code",
      "source": [
        "\n",
        "negligenciamed <- read.csv(\"medmal_pos.csv\",sep = \",\")"
      ],
      "metadata": {
        "id": "qMt92hRP6O1s"
      },
      "execution_count": 2,
      "outputs": []
    },
    {
      "cell_type": "markdown",
      "source": [
        "Información de las columnas.\n"
      ],
      "metadata": {
        "id": "dxfIe0baBFzG"
      }
    },
    {
      "cell_type": "code",
      "metadata": {
        "id": "rCEtur7fajGn",
        "colab": {
          "base_uri": "https://localhost:8080/"
        },
        "outputId": "9f9f9b8e-a755-4c6b-d3f2-52295c6d369b"
      },
      "source": [
        "#columnas\n",
        "str(negligenciamed)"
      ],
      "execution_count": 3,
      "outputs": [
        {
          "output_type": "stream",
          "name": "stdout",
          "text": [
            "'data.frame':\t3400 obs. of  13 variables:\n",
            " $ GRCODE            : int  669 669 669 669 669 669 669 669 669 669 ...\n",
            " $ GRNAME            : chr  \"Scpie Indemnity Co\" \"Scpie Indemnity Co\" \"Scpie Indemnity Co\" \"Scpie Indemnity Co\" ...\n",
            " $ AccidentYear      : int  1988 1988 1988 1988 1988 1988 1988 1988 1988 1988 ...\n",
            " $ DevelopmentYear   : int  1988 1989 1990 1991 1992 1993 1994 1995 1996 1997 ...\n",
            " $ DevelopmentLag    : int  1 2 3 4 5 6 7 8 9 10 ...\n",
            " $ IncurLoss_F2      : int  121905 112211 103226 99599 96006 90487 82640 80406 78920 78511 ...\n",
            " $ CumPaidLoss_F2    : int  2716 24576 43990 59722 71019 76354 76792 77207 77588 77656 ...\n",
            " $ BulkLoss_F2       : int  97966 64117 39008 20736 13599 10577 3762 2105 819 407 ...\n",
            " $ EarnedPremDIR_F2  : int  129104 129104 129104 129104 129104 129104 129104 129104 129104 129104 ...\n",
            " $ EarnedPremCeded_F2: int  -6214 -6214 -6214 -6214 -6214 -6214 -6214 -6214 -6214 -6214 ...\n",
            " $ EarnedPremNet_F2  : int  135318 135318 135318 135318 135318 135318 135318 135318 135318 135318 ...\n",
            " $ Single            : int  0 0 0 0 0 0 0 0 0 0 ...\n",
            " $ PostedReserve97_F2: int  344558 344558 344558 344558 344558 344558 344558 344558 344558 344558 ...\n"
          ]
        }
      ]
    },
    {
      "cell_type": "code",
      "metadata": {
        "id": "T6aH0TahbghZ"
      },
      "source": [
        "?system"
      ],
      "execution_count": null,
      "outputs": []
    },
    {
      "cell_type": "markdown",
      "source": [
        "Se modifica el nombre de las columnas\n"
      ],
      "metadata": {
        "id": "apqWtJxQOzBu"
      }
    },
    {
      "cell_type": "code",
      "metadata": {
        "id": "3o11KxDzyC0g",
        "outputId": "ede8cb0c-26e3-4bf7-ccc4-80736934387c",
        "colab": {
          "base_uri": "https://localhost:8080/"
        }
      },
      "source": [
        "negligenciamed.v1 <- read.csv(\"medmal_pos.csv\",sep = \",\",\n",
        "                         col.names=c(\"codigo\",\"GRNAME\",\"AccidentYear\",\"AccidentYear\",\"AccidentYear\",\n",
        "                                     \"Incurridos\",\"CumPaidLoss_F2 \",\"BulkLoss_F2\",\" EarnedPremDIR_F2\",\n",
        "                                     \"  EarnedPremCeded_F2\",\"EarnedPremNet_F2 \",\" Single \",\"PostedReserve97_F2\"))\n",
        "\n",
        "\n",
        "str(negligenciamed.v1)"
      ],
      "execution_count": 4,
      "outputs": [
        {
          "output_type": "stream",
          "name": "stdout",
          "text": [
            "'data.frame':\t3400 obs. of  13 variables:\n",
            " $ codigo               : int  669 669 669 669 669 669 669 669 669 669 ...\n",
            " $ GRNAME               : chr  \"Scpie Indemnity Co\" \"Scpie Indemnity Co\" \"Scpie Indemnity Co\" \"Scpie Indemnity Co\" ...\n",
            " $ AccidentYear         : int  1988 1988 1988 1988 1988 1988 1988 1988 1988 1988 ...\n",
            " $ AccidentYear.1       : int  1988 1989 1990 1991 1992 1993 1994 1995 1996 1997 ...\n",
            " $ AccidentYear.2       : int  1 2 3 4 5 6 7 8 9 10 ...\n",
            " $ Incurridos           : int  121905 112211 103226 99599 96006 90487 82640 80406 78920 78511 ...\n",
            " $ CumPaidLoss_F2.      : int  2716 24576 43990 59722 71019 76354 76792 77207 77588 77656 ...\n",
            " $ BulkLoss_F2          : int  97966 64117 39008 20736 13599 10577 3762 2105 819 407 ...\n",
            " $ X.EarnedPremDIR_F2   : int  129104 129104 129104 129104 129104 129104 129104 129104 129104 129104 ...\n",
            " $ X..EarnedPremCeded_F2: int  -6214 -6214 -6214 -6214 -6214 -6214 -6214 -6214 -6214 -6214 ...\n",
            " $ EarnedPremNet_F2.    : int  135318 135318 135318 135318 135318 135318 135318 135318 135318 135318 ...\n",
            " $ X.Single.            : int  0 0 0 0 0 0 0 0 0 0 ...\n",
            " $ PostedReserve97_F2   : int  344558 344558 344558 344558 344558 344558 344558 344558 344558 344558 ...\n"
          ]
        }
      ]
    },
    {
      "cell_type": "code",
      "metadata": {
        "id": "SPYGePw53fWq"
      },
      "source": [
        "system(\"add-apt-repository -y ppa:marutter/rrutter\")\n",
        "system(\"add-apt-repository -y ppa:marutter/c2d4u\")\n",
        "system(\"apt-get update\")\n",
        "system(\"apt install -y r-cran-rstan\")"
      ],
      "execution_count": null,
      "outputs": []
    },
    {
      "cell_type": "code",
      "metadata": {
        "id": "1IzjHJFxv01f"
      },
      "source": [
        "install.packages('ggmap')\n",
        "install.packages('codetools')"
      ],
      "execution_count": null,
      "outputs": []
    },
    {
      "cell_type": "code",
      "metadata": {
        "id": "sdyV67dk2vGx"
      },
      "source": [
        "library(\"ggmap\")"
      ],
      "execution_count": null,
      "outputs": []
    },
    {
      "cell_type": "code",
      "metadata": {
        "id": "qIbhtDzdwYdB"
      },
      "source": [
        "options(repr.plot.width  = 3,\n",
        "        repr.plot.height = 3)\n",
        "Sys.setenv(USE_CXX14 = 1)\n",
        "library(\"rstan\") # observe startup messages\n",
        "options(mc.cores = parallel::detectCores())\n",
        "rstan_options(auto_write = TRUE)"
      ],
      "execution_count": null,
      "outputs": []
    },
    {
      "cell_type": "code",
      "metadata": {
        "id": "xLlQFtlPxD5j"
      },
      "source": [
        "x <- seq(0, 2*pi, length.out=50)\n",
        "plot(x, sin(x))"
      ],
      "execution_count": null,
      "outputs": []
    },
    {
      "cell_type": "code",
      "metadata": {
        "id": "lxBXXzeIx6aA"
      },
      "source": [
        "stanmodelcode <- \"\n",
        "data {\n",
        "    int<lower=0> N;\n",
        "    real y[N];\n",
        "}\n",
        "\n",
        "parameters {\n",
        "    real mu;\n",
        "\n",
        "}\n",
        "\n",
        "model {\n",
        "    target += normal_lpdf(mu | 0, 10);\n",
        "    target += normal_lpdf(y | mu, 1);\n",
        "}\"\n",
        "\n",
        "y <- rnorm(20)\n",
        "dat <- list(N = 20, y = y);\n",
        "\n",
        "fit <- stan(model_code = stanmodelcode, model_name = \"example\",\n",
        "            data = dat, iter = 2012, chains = 8, sample_file = 'norm.csv',\n",
        "            verbose = FALSE,\n",
        "            refresh = -1)\n",
        "\n",
        "print(fit)"
      ],
      "execution_count": null,
      "outputs": []
    },
    {
      "cell_type": "code",
      "metadata": {
        "id": "Vmo1YXVcx91I"
      },
      "source": [
        "plot(fit)"
      ],
      "execution_count": null,
      "outputs": []
    },
    {
      "cell_type": "code",
      "metadata": {
        "id": "0ocs9zTCx-Sw"
      },
      "source": [
        "y <- as.matrix(read.table('https://raw.github.com/wiki/stan-dev/rstan/rats.txt', header = TRUE))\n",
        "x <- c(8, 15, 22, 29, 36)\n",
        "xbar <- mean(x)\n",
        "N <- nrow(y)\n",
        "T <- ncol(y)\n",
        "rats_fit <- stan(file = 'https://raw.githubusercontent.com/stan-dev/example-models/master/bugs_examples/vol1/rats/rats.stan')\n"
      ],
      "execution_count": null,
      "outputs": []
    },
    {
      "cell_type": "code",
      "metadata": {
        "id": "HrED9oZSx_ph"
      },
      "source": [
        "rats_fit"
      ],
      "execution_count": null,
      "outputs": []
    },
    {
      "cell_type": "code",
      "metadata": {
        "id": "c4HysAnzyA_p"
      },
      "source": [
        "plot(rats_fit)"
      ],
      "execution_count": null,
      "outputs": []
    },
    {
      "cell_type": "code",
      "metadata": {
        "id": "ypXiaqB6jKRh"
      },
      "source": [
        "## load APA data set, full version\n",
        "data(APAFULL)\n",
        "## Emond and Mason Branch-and-Bound algorithm.\n",
        "## If the number of object is higher than 20, EMCons function may work for several minutes.\n",
        "## Use either QuickCons, DECOR, FASTcons or FASTDECOR instead\n",
        "CR=EMCons(APAFULL)"
      ],
      "execution_count": null,
      "outputs": []
    },
    {
      "cell_type": "code",
      "metadata": {
        "id": "uaE0kZ0vkqms"
      },
      "source": [
        "TR=tabulaterows(APAFULL)\n",
        "CR2=FASTcons(TR$X,TR$Wk,maxiter=5)\n",
        "CR3=QuickCons(TR$X,TR$Wk)\n",
        "CR4=DECOR(TR$X,TR$Wk)\n",
        "#####################################\n",
        "### load sports data set\n",
        "#data(sports)\n",
        "### FAST algorithm\n",
        "#CR=FASTcons(sports,maxiter=10)\n",
        "#####################################\n",
        "#######################################\n",
        "### load Emond and Mason data set\n",
        "#data(EMD)\n",
        "### matrix X contains rankings\n",
        "#X=EMD[,1:15]\n",
        "### vector Wk contains frequencies\n",
        "#Wk=EMD[,16]\n",
        "### QUICK algorithm\n",
        "#CR=QuickCons(X,Wk)\n",
        "#######################################"
      ],
      "execution_count": null,
      "outputs": []
    },
    {
      "cell_type": "code",
      "metadata": {
        "id": "YmCDzKEpkxgc"
      },
      "source": [
        "data(BU)\n",
        "polyplot(BU[,1:3],Wk=BU[,4])"
      ],
      "execution_count": null,
      "outputs": []
    },
    {
      "cell_type": "code",
      "metadata": {
        "id": "IS3VN3qamf20"
      },
      "source": [],
      "execution_count": null,
      "outputs": []
    }
  ]
}